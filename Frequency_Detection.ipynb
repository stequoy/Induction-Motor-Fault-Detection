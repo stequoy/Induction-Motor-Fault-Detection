{
  "nbformat": 4,
  "nbformat_minor": 0,
  "metadata": {
    "colab": {
      "provenance": []
    },
    "kernelspec": {
      "name": "python3",
      "display_name": "Python 3"
    },
    "language_info": {
      "name": "python"
    }
  },
  "cells": [
    {
      "cell_type": "code",
      "source": [
        "import math"
      ],
      "metadata": {
        "id": "r91cy4-hgdrr"
      },
      "execution_count": null,
      "outputs": []
    },
    {
      "cell_type": "code",
      "source": [
        "config = {\n",
        "    'f1': 50, # основная частота питания 50 Гц\n",
        "    'f_sampling': 10000, # частота дискретизации 10 кГц\n",
        "    's': 0.028, # скольжение двигателя 2.8% (справочное), 2.67% (расчётное)\n",
        "    'R_s': 34, # число пазов (стержней) ротора\n",
        "    'p': 4, # число пар полюсов (заменил на f_r/f1)\n",
        "    'f_r': 12.333, # частота вращения ротора (вала) 1460 RPM в Гц\n",
        "    'n': 8, # число шариков в подшипнике\n",
        "    'beta': 0, # угол контакта\n",
        "    'D_pit': 15.0810, # диаметр окружности центра шариков (мм)\n",
        "    'D_ball': 65 # диаметр шарика (мм)\n",
        "    }"
      ],
      "metadata": {
        "id": "ayrWFbEHgrX9"
      },
      "execution_count": null,
      "outputs": []
    },
    {
      "cell_type": "code",
      "execution_count": null,
      "metadata": {
        "id": "PwKlyk4hgPEC"
      },
      "outputs": [],
      "source": [
        "def get_type1_freqs(engine_config, n_range=range(1,4)):\n",
        "    # частоты для дефекта клетки ротора. n_range - диапазон гармоник\n",
        "    s = engine_config['s']\n",
        "    f1 = engine_config['f1']\n",
        "    freqs = []\n",
        "    for n in n_range:\n",
        "        assert n > 0\n",
        "        assert isinstance(n, int)\n",
        "        freqs.append((1+2*n*s)*f1)\n",
        "        freqs.append((1-2*n*s)*f1)\n",
        "    return freqs\n",
        "\n",
        "\n",
        "def get_type2_freqs(engine_config, n_range=range(1,4)):\n",
        "    # частоты для эксцентриситета воздушного зазора. n_range - диапазон гармоник\n",
        "    R_s = engine_config['R_s']\n",
        "    p = engine_config['p']\n",
        "    s = engine_config['s']\n",
        "    f1 = engine_config['f1']\n",
        "    freqs = []\n",
        "    for n in n_range:\n",
        "        assert n > 0\n",
        "        assert isinstance(n, int)\n",
        "        freqs.append(f1*((R_s*(1-s)/p)+n+((1-s)/p)))\n",
        "        freqs.append(f1*((R_s*(1-s)/p)+n-((1-s)/p)))\n",
        "        freqs.append(f1*((R_s*(1-s)/p)-n+((1-s)/p)))\n",
        "        freqs.append(f1*((R_s*(1-s)/p)-n-((1-s)/p)))\n",
        "    return freqs\n",
        "\n",
        "def get_type3_freqs(engine_config, n_range=range(1,4), k_range=range(1,4)):\n",
        "    # функция расчёта гармоник для межвитковых замыканий. n_range и k_range - диапазон для гармоник\n",
        "    f1 = engine_config['f1']\n",
        "    p = engine_config['p']\n",
        "    s = engine_config['s']\n",
        "    freqs = []\n",
        "    for n in n_range:\n",
        "        assert n > 0\n",
        "        assert isinstance(n, int)\n",
        "        for k in k_range:\n",
        "            assert k > 0\n",
        "            assert isinstance(k, int)\n",
        "            freqs.append(f1*((n*(1-s)/p)+k))\n",
        "            freqs.append(f1*((n*(1-s)/p)-k))\n",
        "    return freqs\n",
        "\n",
        "def get_type4_1_freqs(engine_config):\n",
        "    # функция расчёта гармоник для дефектов подшипника (тело качения)\n",
        "    D_pit = engine_config['D_pit']\n",
        "    D_ball = engine_config['D_ball']\n",
        "    f_r = engine_config['beta']\n",
        "    beta = engine_config['beta']\n",
        "    return [(D_pit/D_ball)*f_r*(1-(D_ball/(D_pit*math.cos(beta)))**2)]\n",
        "\n",
        "def get_type4_2_freqs(engine_config):\n",
        "    # функция расчёта гармоник для дефектов подшипника (внешняя дорожка)\n",
        "    n = engine_config['n']\n",
        "    D_pit = engine_config['D_pit']\n",
        "    D_ball = engine_config['D_ball']\n",
        "    f_r = engine_config['beta']\n",
        "    beta = engine_config['beta']\n",
        "    return [(n/2)*f_r*(1-(D_ball/(D_pit*math.cos(beta))))]\n",
        "\n",
        "def get_type4_3_freqs(engine_config):\n",
        "    # функция расчёта гармоник для дефектов подшипника (внутренняя дорожка)\n",
        "    n = engine_config['n']\n",
        "    D_pit = engine_config['D_pit']\n",
        "    D_ball = engine_config['D_ball']\n",
        "    f_r = engine_config['beta']\n",
        "    beta = engine_config['beta']\n",
        "    return [(n/2)*f_r*(1+(D_ball/(D_pit*math.cos(beta))))]\n",
        "\n",
        "\n",
        "def get_type5_freqs(engine_config, n_range=range(1,4)):\n",
        "    # функция расчёта гармоник для других механических поломок. n_range - диапазон для гармоник\n",
        "    f_r = engine_config['f_r']\n",
        "    f1 = engine_config['f1']\n",
        "    freqs = []\n",
        "    for n in n_range:\n",
        "        assert n > 0\n",
        "        assert isinstance(n, int)\n",
        "        freqs.append(f1 + n*f_r)\n",
        "    return freqs\n",
        "\n"
      ]
    },
    {
      "cell_type": "code",
      "source": [
        "get_type1_freqs = get_type1_freqs(config)\n",
        "get_type2_freqs = get_type2_freqs(config)\n",
        "get_type3_freqs = get_type3_freqs(config)\n",
        "get_type4_1_freqs = get_type4_1_freqs(config)\n",
        "get_type4_2_freqs = get_type4_2_freqs(config)\n",
        "get_type4_3_freqs = get_type4_3_freqs(config)\n",
        "get_type5_freqs = get_type5_freqs(config)"
      ],
      "metadata": {
        "id": "4CHh-da6i1HU"
      },
      "execution_count": null,
      "outputs": []
    },
    {
      "cell_type": "code",
      "source": [
        "ANOMALY_FREQS = {'rotor cell defect': get_type1_freqs, 'air gap eccentricity': get_type2_freqs,\n",
        "                 'inter-turn short circuits': get_type3_freqs, 'bearing defect (rolling element)': get_type4_1_freqs,\n",
        "                 'bearing defect (outer race)': get_type4_2_freqs, 'bearing defect (inner race)': get_type4_3_freqs,\n",
        "                 'other mechanical defects': get_type5_freqs}\n"
      ],
      "metadata": {
        "id": "aIV2h44-gbQv"
      },
      "execution_count": null,
      "outputs": []
    },
    {
      "cell_type": "code",
      "source": [
        "ANOMALY_FREQS['rotor cell defect']"
      ],
      "metadata": {
        "colab": {
          "base_uri": "https://localhost:8080/"
        },
        "id": "zJ1yy64ck5hj",
        "outputId": "a8bc5cc8-aefe-4ff3-ff6c-f1024fe85df0"
      },
      "execution_count": null,
      "outputs": [
        {
          "output_type": "execute_result",
          "data": {
            "text/plain": [
              "[52.800000000000004, 47.199999999999996, 55.60000000000001, 44.4, 58.4, 41.6]"
            ]
          },
          "metadata": {},
          "execution_count": 9
        }
      ]
    }
  ]
}