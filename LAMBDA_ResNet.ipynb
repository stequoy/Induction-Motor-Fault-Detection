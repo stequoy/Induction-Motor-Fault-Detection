{
  "nbformat": 4,
  "nbformat_minor": 0,
  "metadata": {
    "colab": {
      "provenance": [],
      "gpuType": "T4"
    },
    "kernelspec": {
      "name": "python3",
      "display_name": "Python 3"
    },
    "language_info": {
      "name": "python"
    },
    "accelerator": "GPU"
  },
  "cells": [
    {
      "cell_type": "code",
      "source": [
        "!unzip /content/good_data_for_conv.zip\n",
        "!unzip /content/bad_data_for_conv_110_2.3_2_7.zip\n",
        "!unzip /content/bad_data_for_conv_150_1.9_8_10.zip\n",
        "!unzip /content/bad_data_for_conv_30_2_10_8.zip\n",
        "!unzip /content/bad_data_for_conv_50_2.2_5_7.zip"
      ],
      "metadata": {
        "id": "40B5QuHchC0X"
      },
      "execution_count": null,
      "outputs": []
    },
    {
      "cell_type": "code",
      "source": [
        "!unzip /content/good_data_for_conv.zip\n",
        "!unzip /content/bad_data_for_conv_110_2.3_2_7.zip"
      ],
      "metadata": {
        "id": "wwfAaeThT2L1"
      },
      "execution_count": null,
      "outputs": []
    },
    {
      "cell_type": "code",
      "source": [
        "!unzip /content/Syntatic.zip\n",
        "!unzip /content/FinalAnomalous.zip\n",
        "!unzip /content/FinalNormal.zip"
      ],
      "metadata": {
        "id": "TqpRXaOTPVtf"
      },
      "execution_count": null,
      "outputs": []
    },
    {
      "cell_type": "code",
      "source": [],
      "metadata": {
        "id": "GKaG-sRKPfhW"
      },
      "execution_count": null,
      "outputs": []
    },
    {
      "cell_type": "markdown",
      "source": [
        "# Model Creation"
      ],
      "metadata": {
        "id": "sYrH7UweLYIG"
      }
    },
    {
      "cell_type": "code",
      "source": [
        "import torch\n",
        "import torch.nn as nn\n",
        "import torch.nn.functional as F\n",
        "import torch.optim as optim\n",
        "from torch.utils.data import DataLoader, TensorDataset\n",
        "\n",
        "\n",
        "class ResidualBlock(nn.Module):\n",
        "    def __init__(self, in_channels, out_channels, stride=1, downsample=None):\n",
        "        super(ResidualBlock, self).__init__()\n",
        "        self.conv1 = nn.Conv1d(in_channels, out_channels, kernel_size=3, stride=stride, padding=1)\n",
        "        self.bn1 = nn.BatchNorm1d(out_channels)\n",
        "        self.conv2 = nn.Conv1d(out_channels, out_channels, kernel_size=3, padding=1)\n",
        "        self.bn2 = nn.BatchNorm1d(out_channels)\n",
        "        self.downsample = downsample\n",
        "\n",
        "    def forward(self, x):\n",
        "        residual = x\n",
        "        out = self.conv1(x)\n",
        "        out = F.relu(self.bn1(out))\n",
        "        out = self.conv2(out)\n",
        "        out = self.bn2(out)\n",
        "        if self.downsample:\n",
        "            residual = self.downsample(x)\n",
        "        out += residual\n",
        "        out = F.relu(out)\n",
        "        return out\n",
        "\n",
        "\n",
        "class ResNet(nn.Module):\n",
        "    def __init__(self, block, layers, num_classes=2):\n",
        "        super(ResNet, self).__init__()\n",
        "        self.in_channels = 64\n",
        "        self.conv = nn.Conv1d(1, 64, kernel_size=7, stride=2, padding=3)\n",
        "        self.bn = nn.BatchNorm1d(64)\n",
        "        self.layer1 = self.make_layer(block, 64, layers[0])\n",
        "        self.layer2 = self.make_layer(block, 128, layers[1], 2)\n",
        "        self.layer3 = self.make_layer(block, 256, layers[2], 2)\n",
        "        self.layer4 = self.make_layer(block, 512, layers[3], 2)\n",
        "        self.avg_pool = nn.AdaptiveAvgPool1d(1)\n",
        "        self.fc = nn.Linear(512, num_classes)\n",
        "\n",
        "    def make_layer(self, block, out_channels, blocks, stride=1):\n",
        "        downsample = None\n",
        "        if (stride != 1) or (self.in_channels != out_channels):\n",
        "            downsample = nn.Sequential(\n",
        "                nn.Conv1d(self.in_channels, out_channels, kernel_size=1, stride=stride),\n",
        "                nn.BatchNorm1d(out_channels))\n",
        "        layers = []\n",
        "        layers.append(block(self.in_channels, out_channels, stride, downsample))\n",
        "        self.in_channels = out_channels\n",
        "        for i in range(1, blocks):\n",
        "            layers.append(block(out_channels, out_channels))\n",
        "        return nn.Sequential(*layers)\n",
        "\n",
        "    def forward(self, x):\n",
        "        out = F.relu(self.bn(self.conv(x)))\n",
        "        out = self.layer1(out)\n",
        "        out = self.layer2(out)\n",
        "        out = self.layer3(out)\n",
        "        out = self.layer4(out)\n",
        "        out = self.avg_pool(out)\n",
        "        out = out.view(out.size(0), -1)\n",
        "        out = self.fc(out)\n",
        "        return out\n"
      ],
      "metadata": {
        "id": "wiQEkiP6sBxh"
      },
      "execution_count": null,
      "outputs": []
    },
    {
      "cell_type": "markdown",
      "source": [
        "# Data Loader For Multiclass and Binary, non GNN Peaks"
      ],
      "metadata": {
        "id": "ozbZ65_KLnss"
      }
    },
    {
      "cell_type": "code",
      "source": [
        "import numpy as np\n",
        "import torch\n",
        "import pandas as pd\n",
        "from torch.utils.data import DataLoader, TensorDataset\n",
        "import glob\n",
        "import os\n",
        "\n",
        "def load_data(folders):\n",
        "    data = []\n",
        "    labels = []\n",
        "    for label, folder in enumerate(folders):\n",
        "        for csv_file in glob.glob(folder + '/*.csv'):\n",
        "            df = pd.read_csv(csv_file)\n",
        "            data.append(df.values)\n",
        "            labels.append(label)\n",
        "    data = np.array(data)\n",
        "    return torch.tensor(data, dtype=torch.float32), torch.tensor(labels, dtype=torch.long)\n",
        "\n",
        "\n",
        "def create_datasets_and_loaders(folders, batch_size):\n",
        "    data, labels = load_data(folders)\n",
        "    data = data.reshape(data.shape[0], 1, data.shape[1])\n",
        "\n",
        "\n",
        "    dataset = TensorDataset(data, labels)\n",
        "\n",
        "\n",
        "    train_size = int(0.8 * len(dataset))\n",
        "    test_size = len(dataset) - train_size\n",
        "    train_dataset, test_dataset = torch.utils.data.random_split(dataset, [train_size, test_size])\n",
        "\n",
        "\n",
        "    train_loader = DataLoader(train_dataset, batch_size=batch_size, shuffle=True)\n",
        "    test_loader = DataLoader(test_dataset, batch_size=batch_size, shuffle=False)\n",
        "\n",
        "    return train_loader, test_loader\n",
        "\n",
        "\n",
        "\n",
        "class_folders = [\n",
        "    '/content/good_data_for_conv' ,\n",
        "    '/content/bad_data_for_conv_110_2.3_2_7'\n",
        "]\n",
        "\n",
        "\n",
        "train_loader, test_loader = create_datasets_and_loaders(class_folders, batch_size=16)"
      ],
      "metadata": {
        "id": "wQy6UiYZpvCH"
      },
      "execution_count": null,
      "outputs": []
    },
    {
      "cell_type": "code",
      "source": [
        "data, labels = next(iter(train_loader))\n",
        "\n",
        "\n",
        "print(f'Data dimensions: {data.shape}')\n",
        "print(f'Labels dimensions: {labels.shape}')"
      ],
      "metadata": {
        "colab": {
          "base_uri": "https://localhost:8080/"
        },
        "id": "hLG6lQSpL4Tu",
        "outputId": "bebcb256-4568-4423-d05b-0ba63d271228"
      },
      "execution_count": null,
      "outputs": [
        {
          "output_type": "stream",
          "name": "stdout",
          "text": [
            "Data dimensions: torch.Size([16, 1, 250])\n",
            "Labels dimensions: torch.Size([16])\n"
          ]
        }
      ]
    },
    {
      "cell_type": "markdown",
      "source": [
        "# Dataloader For Binary"
      ],
      "metadata": {
        "id": "AAL9k0uuLtsL"
      }
    },
    {
      "cell_type": "code",
      "source": [
        "import glob\n",
        "import pandas as pd\n",
        "import numpy as np\n",
        "\n",
        "def load_data_from_folder(folder, label):\n",
        "    data, labels = [], []\n",
        "    for file in glob.glob(f\"{folder}/*.csv\"):\n",
        "        df = pd.read_csv(file)\n",
        "        data.append(df.values)\n",
        "        labels.append(label)\n",
        "    return data, labels\n",
        "\n",
        "def split_data(data, labels, split_ratio=0.8):\n",
        "    dataset_size = len(data)\n",
        "    indices = list(range(dataset_size))\n",
        "    split = int(np.floor(split_ratio * dataset_size))\n",
        "    np.random.shuffle(indices)\n",
        "\n",
        "    train_indices, test_indices = indices[:split], indices[split:]\n",
        "\n",
        "    train_data = [data[i] for i in train_indices]\n",
        "    train_labels = [labels[i] for i in train_indices]\n",
        "    test_data = [data[i] for i in test_indices]\n",
        "    test_labels = [labels[i] for i in test_indices]\n",
        "\n",
        "    return train_data, train_labels, test_data, test_labels\n",
        "\n",
        "def create_data_loaders(normal_folder, real_anomalies_folder, syntactic_anomalies_folder, batch_size):\n",
        "    # Load and split data\n",
        "    normal_data, normal_labels = load_data_from_folder(normal_folder, 0)\n",
        "    print(len(normal_data))\n",
        "    real_anomalies_data, real_anomalies_labels = load_data_from_folder(real_anomalies_folder, 1)\n",
        "    print(len( real_anomalies_data))\n",
        "    syntactic_anomalies_data, syntactic_anomalies_labels = load_data_from_folder(syntactic_anomalies_folder, 1)\n",
        "    print(len(syntactic_anomalies_data))\n",
        "    normal_train_data, normal_train_labels, normal_test_data, normal_test_labels = split_data(normal_data, normal_labels)\n",
        "    syntactic_train_data, syntactic_train_labels, _, _ = split_data(syntactic_anomalies_data, syntactic_anomalies_labels)\n",
        "    real_train_data, real_train_labels, real_test_data, real_test_labels = split_data(real_anomalies_data, real_anomalies_labels)\n",
        "\n",
        "    # Combine train data\n",
        "    train_data = normal_train_data + syntactic_train_data + real_train_data\n",
        "    train_labels = normal_train_labels + syntactic_train_labels + real_train_labels\n",
        "\n",
        "    # Combine test data\n",
        "    test_data = normal_test_data + real_test_data + real_test_data\n",
        "    test_labels = normal_test_labels + real_test_labels + real_test_labels\n",
        "\n",
        "    # Convert to numpy arrays and reshape\n",
        "    train_data = np.array(train_data).reshape(len(train_data), 1, -1)\n",
        "    train_labels = np.array(train_labels)\n",
        "    test_data = np.array(test_data).reshape(len(test_data), 1, -1)\n",
        "    test_labels = np.array(test_labels)\n",
        "\n",
        "    # Create TensorDatasets\n",
        "    train_dataset = TensorDataset(torch.tensor(train_data, dtype=torch.float32), torch.tensor(train_labels, dtype=torch.long))\n",
        "    test_dataset = TensorDataset(torch.tensor(test_data, dtype=torch.float32), torch.tensor(test_labels, dtype=torch.long))\n",
        "\n",
        "    # Create DataLoaders\n",
        "    train_loader = DataLoader(train_dataset, batch_size=batch_size, shuffle=True)\n",
        "    test_loader = DataLoader(test_dataset, batch_size=batch_size, shuffle=False)\n",
        "\n",
        "    return train_loader, test_loader\n",
        "\n",
        "def count_labels(loader):\n",
        "    label_counts = {0: 0, 1: 0}\n",
        "    for _, labels in loader:\n",
        "        for label in labels.numpy():\n",
        "            label_counts[label] += 1\n",
        "    return label_counts\n"
      ],
      "metadata": {
        "id": "jc8su82cOuAa"
      },
      "execution_count": null,
      "outputs": []
    },
    {
      "cell_type": "code",
      "source": [
        "# Define folder paths\n",
        "folders = {\n",
        "    'normal': '/content/Final Normal',\n",
        "    'real_anomalies': '/content/Final Anomalous',\n",
        "    'syntactic_anomalies': '/content/Syntatic'\n",
        "}\n",
        "\n",
        "# Create DataLoaders\n",
        "train_loader, test_loader = create_data_loaders(folders['normal'], folders['real_anomalies'], folders['syntactic_anomalies'], batch_size=16)\n",
        "\n",
        "\n",
        "data, labels = next(iter(train_loader))\n",
        "\n",
        "print(f'Data dimensions: {data.shape}')\n",
        "print(f'Labels dimensions: {labels.shape}')\n"
      ],
      "metadata": {
        "colab": {
          "base_uri": "https://localhost:8080/"
        },
        "id": "LLljZi4-Ozn9",
        "outputId": "fc55e0bd-677f-4359-eb31-74bc437e0283"
      },
      "execution_count": null,
      "outputs": [
        {
          "output_type": "stream",
          "name": "stdout",
          "text": [
            "2501\n",
            "1501\n",
            "1500\n",
            "Data dimensions: torch.Size([16, 1, 500])\n",
            "Labels dimensions: torch.Size([16])\n"
          ]
        }
      ]
    },
    {
      "cell_type": "code",
      "source": [
        "def count_labels(loader):\n",
        "    label_counts = {0: 0, 1: 0}\n",
        "    for _, labels in loader:\n",
        "        for label in labels.numpy():\n",
        "            label_counts[label] += 1\n",
        "    return label_counts\n",
        "\n",
        "# Count and print label distributions\n",
        "train_label_counts = count_labels(train_loader)\n",
        "test_label_counts = count_labels(test_loader)\n",
        "print(f'Train loader label counts: {train_label_counts}')\n",
        "print(f'Test loader label counts: {test_label_counts}')\n"
      ],
      "metadata": {
        "colab": {
          "base_uri": "https://localhost:8080/"
        },
        "id": "mN6lv0DtbO2F",
        "outputId": "75ba73fe-134b-4e3f-ed18-cc27ade73e3d"
      },
      "execution_count": null,
      "outputs": [
        {
          "output_type": "stream",
          "name": "stdout",
          "text": [
            "Train loader label counts: {0: 2000, 1: 2400}\n",
            "Test loader label counts: {0: 501, 1: 602}\n"
          ]
        }
      ]
    },
    {
      "cell_type": "markdown",
      "source": [
        "# Model Training"
      ],
      "metadata": {
        "id": "Sg3LkXg6L8aD"
      }
    },
    {
      "cell_type": "code",
      "source": [
        "from sklearn.metrics import precision_recall_fscore_support\n",
        "def train_model(model, train_loader, test_loader, device, num_epochs=10):\n",
        "    criterion = torch.nn.CrossEntropyLoss()\n",
        "    optimizer = torch.optim.Adam(model.parameters(), lr=0.001)\n",
        "\n",
        "    for epoch in range(num_epochs):\n",
        "        model.train()\n",
        "        running_loss = 0.0\n",
        "        for inputs, labels in train_loader:\n",
        "            inputs, labels = inputs.to(device), labels.to(device)\n",
        "\n",
        "            outputs = model(inputs)\n",
        "            loss = criterion(outputs, labels)\n",
        "\n",
        "            optimizer.zero_grad()\n",
        "            loss.backward()\n",
        "            optimizer.step()\n",
        "\n",
        "            running_loss += loss.item() * inputs.size(0)\n",
        "\n",
        "        epoch_loss = running_loss / len(train_loader.dataset)\n",
        "        print(f'Epoch [{epoch+1}/{num_epochs}], Loss: {epoch_loss:.4f}')\n",
        "\n",
        "    model.eval()\n",
        "    correct = 0\n",
        "    total = 0\n",
        "    all_labels = []\n",
        "    all_predictions = []\n",
        "\n",
        "    with torch.no_grad():\n",
        "        for inputs, labels in test_loader:\n",
        "            inputs, labels = inputs.to(device), labels.to(device)\n",
        "            outputs = model(inputs)\n",
        "            _, predicted = torch.max(outputs.data, 1)\n",
        "            total += labels.size(0)\n",
        "            correct += (predicted == labels).sum().item()\n",
        "            all_labels.extend(labels.cpu().numpy())\n",
        "            all_predictions.extend(predicted.cpu().numpy())\n",
        "\n",
        "    accuracy = 100 * correct / total\n",
        "    print(f'Accuracy of the model on the test set: {accuracy}%')\n",
        "\n",
        "    precision, recall, f1_score, _ = precision_recall_fscore_support(all_labels, all_predictions, average='weighted')\n",
        "    print(f'F1 Score: {f1_score:.4f}')\n",
        "\n",
        "model = ResNet(ResidualBlock, [2, 2, 2, 2], num_classes=2)\n",
        "\n",
        "device = torch.device(\"cuda:0\" if torch.cuda.is_available() else \"cpu\")\n",
        "model.to(device)"
      ],
      "metadata": {
        "id": "Kj7EzVKHsEEh"
      },
      "execution_count": null,
      "outputs": []
    },
    {
      "cell_type": "markdown",
      "source": [
        "### Binary Classificaton, Synt Peaks"
      ],
      "metadata": {
        "id": "ncrl1agMTlRJ"
      }
    },
    {
      "cell_type": "code",
      "source": [
        "train_model(model, train_loader, test_loader, device, num_epochs=5)"
      ],
      "metadata": {
        "colab": {
          "base_uri": "https://localhost:8080/"
        },
        "id": "X1p_D1KZTk0L",
        "outputId": "cdd10fe5-22b6-4837-b9a5-e2f87231cb3c"
      },
      "execution_count": null,
      "outputs": [
        {
          "output_type": "stream",
          "name": "stdout",
          "text": [
            "Epoch [1/5], Loss: 0.0096\n",
            "Epoch [2/5], Loss: 0.0039\n",
            "Epoch [3/5], Loss: 0.0092\n",
            "Epoch [4/5], Loss: 0.0058\n",
            "Epoch [5/5], Loss: 0.0018\n",
            "Accuracy of the model on the test set: 100.0%\n",
            "F1 Score: 1.0000\n"
          ]
        }
      ]
    },
    {
      "cell_type": "markdown",
      "source": [
        "### Five classes classification, Synt Peaks"
      ],
      "metadata": {
        "id": "Wqw3tF68QY2C"
      }
    },
    {
      "cell_type": "code",
      "source": [
        "train_model(model, train_loader, test_loader, device, num_epochs=3)"
      ],
      "metadata": {
        "colab": {
          "base_uri": "https://localhost:8080/"
        },
        "id": "tOOHMaL2QfaK",
        "outputId": "24d602ab-2b01-48eb-dfc9-dde769e2a39c"
      },
      "execution_count": null,
      "outputs": [
        {
          "output_type": "stream",
          "name": "stdout",
          "text": [
            "Epoch [1/3], Loss: 0.0213\n",
            "Epoch [2/3], Loss: 0.0097\n",
            "Epoch [3/3], Loss: 0.0116\n",
            "Accuracy of the model on the test set: 99.94500962331593%\n",
            "F1 Score: 0.9995\n"
          ]
        }
      ]
    },
    {
      "cell_type": "markdown",
      "source": [
        "### Binary Classification on Real Data"
      ],
      "metadata": {
        "id": "8MZgD_htXx34"
      }
    },
    {
      "cell_type": "code",
      "source": [
        "train_model(model, train_loader, test_loader, device, num_epochs=3)"
      ],
      "metadata": {
        "colab": {
          "base_uri": "https://localhost:8080/"
        },
        "id": "fDzMcZFoX5Je",
        "outputId": "84e0e72d-f9a2-4cf4-f6d5-f4090375592c"
      },
      "execution_count": null,
      "outputs": [
        {
          "output_type": "stream",
          "name": "stdout",
          "text": [
            "Epoch [1/3], Loss: 0.0202\n",
            "Epoch [2/3], Loss: 0.0008\n",
            "Epoch [3/3], Loss: 0.0022\n",
            "Accuracy of the model on the test set: 100.0%\n",
            "F1 Score: 1.0000\n"
          ]
        }
      ]
    },
    {
      "cell_type": "markdown",
      "source": [
        "# Testing on Separate Files"
      ],
      "metadata": {
        "id": "LnB23EmJMEfj"
      }
    },
    {
      "cell_type": "code",
      "source": [
        "import torch\n",
        "import pandas as pd\n",
        "from torch.utils.data import DataLoader, TensorDataset\n",
        "\n",
        "\n",
        "\n",
        "def preprocess_data(file_path):\n",
        "\n",
        "    df = pd.read_csv(file_path)\n",
        "\n",
        "\n",
        "    data = df.values.reshape(1, 1, -1)  # 1 sample, 1 channel, sequence length\n",
        "\n",
        "    tensor_data = torch.tensor(data, dtype=torch.float32)\n",
        "\n",
        "    return tensor_data\n",
        "\n",
        "def classify_time_series(model, file_path, device):\n",
        "\n",
        "    tensor_data = preprocess_data(file_path)\n",
        "\n",
        "    tensor_data = tensor_data.to(device)\n",
        "\n",
        "    model.eval()\n",
        "\n",
        "    with torch.no_grad():\n",
        "        outputs = model(tensor_data)\n",
        "        _, predicted = torch.max(outputs, 1)\n",
        "\n",
        "    prediction = predicted.item()\n",
        "\n",
        "    return prediction\n",
        "\n",
        "\n",
        "\n",
        "file_path = '/content/Final Anomalous/Anomalous_1003.csv'\n",
        "device = torch.device(\"cuda:0\" if torch.cuda.is_available() else \"cpu\")\n",
        "prediction = classify_time_series(model, file_path, device)\n",
        "print(f'The time series is classified as: {prediction}')\n"
      ],
      "metadata": {
        "colab": {
          "base_uri": "https://localhost:8080/"
        },
        "id": "jwD0zNJc7Ooo",
        "outputId": "603169f7-f192-4b62-fc6a-14a22232ce89"
      },
      "execution_count": null,
      "outputs": [
        {
          "output_type": "stream",
          "name": "stdout",
          "text": [
            "The time series is classified as: 1\n"
          ]
        }
      ]
    }
  ]
}