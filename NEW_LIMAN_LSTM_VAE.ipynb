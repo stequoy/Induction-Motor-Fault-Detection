{
  "cells": [
    {
      "cell_type": "markdown",
      "metadata": {
        "id": "JS1VOPpKm9FD"
      },
      "source": [
        "# This code id the adapted version of SKAB https://github.com/waico/SKAB"
      ]
    },
    {
      "cell_type": "code",
      "execution_count": null,
      "metadata": {
        "id": "3Rk57m3nm9FF"
      },
      "outputs": [],
      "source": [
        "# libraries importing\n",
        "import pandas as pd\n",
        "import matplotlib.pyplot as plt\n",
        "%matplotlib inline\n",
        "\n",
        "# additional modules\n",
        "import sys\n",
        "sys.path.append('../utils')"
      ]
    },
    {
      "cell_type": "markdown",
      "metadata": {
        "id": "C13s2c1fm9FG"
      },
      "source": [
        "## Data loading"
      ]
    },
    {
      "cell_type": "code",
      "source": [
        "from google.colab import drive\n",
        "drive.mount('/content/gdrive')"
      ],
      "metadata": {
        "colab": {
          "base_uri": "https://localhost:8080/"
        },
        "id": "a5pHMAwFrKQA",
        "outputId": "7e934f45-33b5-4637-97e0-ddc1f6746cf9"
      },
      "execution_count": null,
      "outputs": [
        {
          "output_type": "stream",
          "name": "stdout",
          "text": [
            "Mounted at /content/gdrive\n"
          ]
        }
      ]
    },
    {
      "cell_type": "code",
      "execution_count": null,
      "metadata": {
        "id": "2rhjAbf6m9FH"
      },
      "outputs": [],
      "source": [
        "all_files=[]\n",
        "import os\n",
        "for root, dirs, files in os.walk(\"/content/gdrive/MyDrive/merged new liman\"):\n",
        "    for file in files:\n",
        "        if file.endswith(\".csv\"):\n",
        "             all_files.append(os.path.join(root, file))"
      ]
    },
    {
      "cell_type": "code",
      "source": [
        "all_files"
      ],
      "metadata": {
        "colab": {
          "base_uri": "https://localhost:8080/"
        },
        "id": "KFLAOXKYsSSN",
        "outputId": "8dbfce20-d564-42de-b574-c97f47559d39"
      },
      "execution_count": null,
      "outputs": [
        {
          "output_type": "execute_result",
          "data": {
            "text/plain": [
              "['/content/gdrive/MyDrive/merged new liman/file1.csv',\n",
              " '/content/gdrive/MyDrive/merged new liman/file2.csv',\n",
              " '/content/gdrive/MyDrive/merged new liman/file3.csv',\n",
              " '/content/gdrive/MyDrive/merged new liman/file4.csv',\n",
              " '/content/gdrive/MyDrive/merged new liman/file5.csv']"
            ]
          },
          "metadata": {},
          "execution_count": 4
        }
      ]
    },
    {
      "cell_type": "code",
      "execution_count": null,
      "metadata": {
        "id": "uoe_wipYm9FH"
      },
      "outputs": [],
      "source": [
        "list_of_df = [pd.read_csv(file,\n",
        "                          sep=',',\n",
        "                          index_col='freq') for file in all_files]\n"
      ]
    },
    {
      "cell_type": "code",
      "source": [
        "list_of_df[0]"
      ],
      "metadata": {
        "colab": {
          "base_uri": "https://localhost:8080/",
          "height": 450
        },
        "id": "cS3l12HhRgUg",
        "outputId": "78ff5fc9-7f7c-44d0-ef03-ab152ac8c55e"
      },
      "execution_count": null,
      "outputs": [
        {
          "output_type": "execute_result",
          "data": {
            "text/plain": [
              "      Unnamed: 0    ampl_A    ampl_B    ampl_C\n",
              "freq                                          \n",
              "0              0  0.168966  0.152076  0.145060\n",
              "1              1  0.001523  0.034549  0.023187\n",
              "2              2  0.006107  0.029112  0.022469\n",
              "3              3  0.002197  0.038957  0.013248\n",
              "4              4  0.009822  0.035821  0.012681\n",
              "...          ...       ...       ...       ...\n",
              "2043        2043  0.003923  0.000404  0.001795\n",
              "2044        2044  0.004637  0.000764  0.000602\n",
              "2045        2045  0.003891  0.001063  0.000489\n",
              "2046        2046  0.003975  0.001391  0.000797\n",
              "2047        2047  0.000000  0.000000  0.000000\n",
              "\n",
              "[2048 rows x 4 columns]"
            ],
            "text/html": [
              "\n",
              "\n",
              "  <div id=\"df-df49aa84-6910-4dbc-8d08-6e5df0d1aa0a\">\n",
              "    <div class=\"colab-df-container\">\n",
              "      <div>\n",
              "<style scoped>\n",
              "    .dataframe tbody tr th:only-of-type {\n",
              "        vertical-align: middle;\n",
              "    }\n",
              "\n",
              "    .dataframe tbody tr th {\n",
              "        vertical-align: top;\n",
              "    }\n",
              "\n",
              "    .dataframe thead th {\n",
              "        text-align: right;\n",
              "    }\n",
              "</style>\n",
              "<table border=\"1\" class=\"dataframe\">\n",
              "  <thead>\n",
              "    <tr style=\"text-align: right;\">\n",
              "      <th></th>\n",
              "      <th>Unnamed: 0</th>\n",
              "      <th>ampl_A</th>\n",
              "      <th>ampl_B</th>\n",
              "      <th>ampl_C</th>\n",
              "    </tr>\n",
              "    <tr>\n",
              "      <th>freq</th>\n",
              "      <th></th>\n",
              "      <th></th>\n",
              "      <th></th>\n",
              "      <th></th>\n",
              "    </tr>\n",
              "  </thead>\n",
              "  <tbody>\n",
              "    <tr>\n",
              "      <th>0</th>\n",
              "      <td>0</td>\n",
              "      <td>0.168966</td>\n",
              "      <td>0.152076</td>\n",
              "      <td>0.145060</td>\n",
              "    </tr>\n",
              "    <tr>\n",
              "      <th>1</th>\n",
              "      <td>1</td>\n",
              "      <td>0.001523</td>\n",
              "      <td>0.034549</td>\n",
              "      <td>0.023187</td>\n",
              "    </tr>\n",
              "    <tr>\n",
              "      <th>2</th>\n",
              "      <td>2</td>\n",
              "      <td>0.006107</td>\n",
              "      <td>0.029112</td>\n",
              "      <td>0.022469</td>\n",
              "    </tr>\n",
              "    <tr>\n",
              "      <th>3</th>\n",
              "      <td>3</td>\n",
              "      <td>0.002197</td>\n",
              "      <td>0.038957</td>\n",
              "      <td>0.013248</td>\n",
              "    </tr>\n",
              "    <tr>\n",
              "      <th>4</th>\n",
              "      <td>4</td>\n",
              "      <td>0.009822</td>\n",
              "      <td>0.035821</td>\n",
              "      <td>0.012681</td>\n",
              "    </tr>\n",
              "    <tr>\n",
              "      <th>...</th>\n",
              "      <td>...</td>\n",
              "      <td>...</td>\n",
              "      <td>...</td>\n",
              "      <td>...</td>\n",
              "    </tr>\n",
              "    <tr>\n",
              "      <th>2043</th>\n",
              "      <td>2043</td>\n",
              "      <td>0.003923</td>\n",
              "      <td>0.000404</td>\n",
              "      <td>0.001795</td>\n",
              "    </tr>\n",
              "    <tr>\n",
              "      <th>2044</th>\n",
              "      <td>2044</td>\n",
              "      <td>0.004637</td>\n",
              "      <td>0.000764</td>\n",
              "      <td>0.000602</td>\n",
              "    </tr>\n",
              "    <tr>\n",
              "      <th>2045</th>\n",
              "      <td>2045</td>\n",
              "      <td>0.003891</td>\n",
              "      <td>0.001063</td>\n",
              "      <td>0.000489</td>\n",
              "    </tr>\n",
              "    <tr>\n",
              "      <th>2046</th>\n",
              "      <td>2046</td>\n",
              "      <td>0.003975</td>\n",
              "      <td>0.001391</td>\n",
              "      <td>0.000797</td>\n",
              "    </tr>\n",
              "    <tr>\n",
              "      <th>2047</th>\n",
              "      <td>2047</td>\n",
              "      <td>0.000000</td>\n",
              "      <td>0.000000</td>\n",
              "      <td>0.000000</td>\n",
              "    </tr>\n",
              "  </tbody>\n",
              "</table>\n",
              "<p>2048 rows × 4 columns</p>\n",
              "</div>\n",
              "      <button class=\"colab-df-convert\" onclick=\"convertToInteractive('df-df49aa84-6910-4dbc-8d08-6e5df0d1aa0a')\"\n",
              "              title=\"Convert this dataframe to an interactive table.\"\n",
              "              style=\"display:none;\">\n",
              "\n",
              "  <svg xmlns=\"http://www.w3.org/2000/svg\" height=\"24px\"viewBox=\"0 0 24 24\"\n",
              "       width=\"24px\">\n",
              "    <path d=\"M0 0h24v24H0V0z\" fill=\"none\"/>\n",
              "    <path d=\"M18.56 5.44l.94 2.06.94-2.06 2.06-.94-2.06-.94-.94-2.06-.94 2.06-2.06.94zm-11 1L8.5 8.5l.94-2.06 2.06-.94-2.06-.94L8.5 2.5l-.94 2.06-2.06.94zm10 10l.94 2.06.94-2.06 2.06-.94-2.06-.94-.94-2.06-.94 2.06-2.06.94z\"/><path d=\"M17.41 7.96l-1.37-1.37c-.4-.4-.92-.59-1.43-.59-.52 0-1.04.2-1.43.59L10.3 9.45l-7.72 7.72c-.78.78-.78 2.05 0 2.83L4 21.41c.39.39.9.59 1.41.59.51 0 1.02-.2 1.41-.59l7.78-7.78 2.81-2.81c.8-.78.8-2.07 0-2.86zM5.41 20L4 18.59l7.72-7.72 1.47 1.35L5.41 20z\"/>\n",
              "  </svg>\n",
              "      </button>\n",
              "\n",
              "\n",
              "\n",
              "    <div id=\"df-53af0801-b333-4674-a390-9bb555633a7f\">\n",
              "      <button class=\"colab-df-quickchart\" onclick=\"quickchart('df-53af0801-b333-4674-a390-9bb555633a7f')\"\n",
              "              title=\"Suggest charts.\"\n",
              "              style=\"display:none;\">\n",
              "\n",
              "<svg xmlns=\"http://www.w3.org/2000/svg\" height=\"24px\"viewBox=\"0 0 24 24\"\n",
              "     width=\"24px\">\n",
              "    <g>\n",
              "        <path d=\"M19 3H5c-1.1 0-2 .9-2 2v14c0 1.1.9 2 2 2h14c1.1 0 2-.9 2-2V5c0-1.1-.9-2-2-2zM9 17H7v-7h2v7zm4 0h-2V7h2v10zm4 0h-2v-4h2v4z\"/>\n",
              "    </g>\n",
              "</svg>\n",
              "      </button>\n",
              "    </div>\n",
              "\n",
              "<style>\n",
              "  .colab-df-quickchart {\n",
              "    background-color: #E8F0FE;\n",
              "    border: none;\n",
              "    border-radius: 50%;\n",
              "    cursor: pointer;\n",
              "    display: none;\n",
              "    fill: #1967D2;\n",
              "    height: 32px;\n",
              "    padding: 0 0 0 0;\n",
              "    width: 32px;\n",
              "  }\n",
              "\n",
              "  .colab-df-quickchart:hover {\n",
              "    background-color: #E2EBFA;\n",
              "    box-shadow: 0px 1px 2px rgba(60, 64, 67, 0.3), 0px 1px 3px 1px rgba(60, 64, 67, 0.15);\n",
              "    fill: #174EA6;\n",
              "  }\n",
              "\n",
              "  [theme=dark] .colab-df-quickchart {\n",
              "    background-color: #3B4455;\n",
              "    fill: #D2E3FC;\n",
              "  }\n",
              "\n",
              "  [theme=dark] .colab-df-quickchart:hover {\n",
              "    background-color: #434B5C;\n",
              "    box-shadow: 0px 1px 3px 1px rgba(0, 0, 0, 0.15);\n",
              "    filter: drop-shadow(0px 1px 2px rgba(0, 0, 0, 0.3));\n",
              "    fill: #FFFFFF;\n",
              "  }\n",
              "</style>\n",
              "\n",
              "    <script>\n",
              "      async function quickchart(key) {\n",
              "        const containerElement = document.querySelector('#' + key);\n",
              "        const charts = await google.colab.kernel.invokeFunction(\n",
              "            'suggestCharts', [key], {});\n",
              "      }\n",
              "    </script>\n",
              "\n",
              "      <script>\n",
              "\n",
              "function displayQuickchartButton(domScope) {\n",
              "  let quickchartButtonEl =\n",
              "    domScope.querySelector('#df-53af0801-b333-4674-a390-9bb555633a7f button.colab-df-quickchart');\n",
              "  quickchartButtonEl.style.display =\n",
              "    google.colab.kernel.accessAllowed ? 'block' : 'none';\n",
              "}\n",
              "\n",
              "        displayQuickchartButton(document);\n",
              "      </script>\n",
              "      <style>\n",
              "    .colab-df-container {\n",
              "      display:flex;\n",
              "      flex-wrap:wrap;\n",
              "      gap: 12px;\n",
              "    }\n",
              "\n",
              "    .colab-df-convert {\n",
              "      background-color: #E8F0FE;\n",
              "      border: none;\n",
              "      border-radius: 50%;\n",
              "      cursor: pointer;\n",
              "      display: none;\n",
              "      fill: #1967D2;\n",
              "      height: 32px;\n",
              "      padding: 0 0 0 0;\n",
              "      width: 32px;\n",
              "    }\n",
              "\n",
              "    .colab-df-convert:hover {\n",
              "      background-color: #E2EBFA;\n",
              "      box-shadow: 0px 1px 2px rgba(60, 64, 67, 0.3), 0px 1px 3px 1px rgba(60, 64, 67, 0.15);\n",
              "      fill: #174EA6;\n",
              "    }\n",
              "\n",
              "    [theme=dark] .colab-df-convert {\n",
              "      background-color: #3B4455;\n",
              "      fill: #D2E3FC;\n",
              "    }\n",
              "\n",
              "    [theme=dark] .colab-df-convert:hover {\n",
              "      background-color: #434B5C;\n",
              "      box-shadow: 0px 1px 3px 1px rgba(0, 0, 0, 0.15);\n",
              "      filter: drop-shadow(0px 1px 2px rgba(0, 0, 0, 0.3));\n",
              "      fill: #FFFFFF;\n",
              "    }\n",
              "  </style>\n",
              "\n",
              "      <script>\n",
              "        const buttonEl =\n",
              "          document.querySelector('#df-df49aa84-6910-4dbc-8d08-6e5df0d1aa0a button.colab-df-convert');\n",
              "        buttonEl.style.display =\n",
              "          google.colab.kernel.accessAllowed ? 'block' : 'none';\n",
              "\n",
              "        async function convertToInteractive(key) {\n",
              "          const element = document.querySelector('#df-df49aa84-6910-4dbc-8d08-6e5df0d1aa0a');\n",
              "          const dataTable =\n",
              "            await google.colab.kernel.invokeFunction('convertToInteractive',\n",
              "                                                     [key], {});\n",
              "          if (!dataTable) return;\n",
              "\n",
              "          const docLinkHtml = 'Like what you see? Visit the ' +\n",
              "            '<a target=\"_blank\" href=https://colab.research.google.com/notebooks/data_table.ipynb>data table notebook</a>'\n",
              "            + ' to learn more about interactive tables.';\n",
              "          element.innerHTML = '';\n",
              "          dataTable['output_type'] = 'display_data';\n",
              "          await google.colab.output.renderOutput(dataTable, element);\n",
              "          const docLink = document.createElement('div');\n",
              "          docLink.innerHTML = docLinkHtml;\n",
              "          element.appendChild(docLink);\n",
              "        }\n",
              "      </script>\n",
              "    </div>\n",
              "  </div>\n"
            ]
          },
          "metadata": {},
          "execution_count": 6
        }
      ]
    },
    {
      "cell_type": "markdown",
      "metadata": {
        "id": "0KB1UdDhm9FL"
      },
      "source": [
        "## Method applying"
      ]
    },
    {
      "cell_type": "code",
      "execution_count": null,
      "metadata": {
        "id": "7Cw_zipEm9FL"
      },
      "outputs": [],
      "source": [
        "from tensorflow import keras\n",
        "from tensorflow.keras import backend as K\n",
        "from tensorflow.keras.models import Sequential, Model\n",
        "from tensorflow.keras.layers import Input, LSTM, RepeatVector\n",
        "from tensorflow.keras.layers import Flatten, Dense, Dropout, Lambda\n",
        "from tensorflow.keras.optimizers import SGD, RMSprop, Adam\n",
        "from tensorflow.keras import losses\n",
        "from tensorflow.python.framework.ops import disable_eager_execution\n",
        "disable_eager_execution()\n",
        "\n",
        "from sklearn.metrics import mean_absolute_error, mean_squared_error\n",
        "from sklearn import decomposition\n",
        "from sklearn.model_selection import train_test_split\n",
        "from sklearn.preprocessing import StandardScaler\n",
        "\n",
        "import numpy as np\n",
        "\n",
        "from scipy.signal import medfilt\n",
        "\n",
        "from tqdm import tqdm\n",
        "\n",
        "import warnings\n",
        "warnings.filterwarnings(\"ignore\")"
      ]
    },
    {
      "cell_type": "code",
      "execution_count": null,
      "metadata": {
        "id": "kdleLkFdm9FL"
      },
      "outputs": [],
      "source": [
        "def Random(seed_value):\n",
        "    # 1. Set `PYTHONHASHSEED` environment variable at a fixed value\n",
        "    import os\n",
        "    os.environ['PYTHONHASHSEED']=str(seed_value)\n",
        "\n",
        "    # 2. Set `python` built-in pseudo-random generator at a fixed value\n",
        "    import random\n",
        "    random.seed(seed_value)\n",
        "\n",
        "    # 3. Set `numpy` pseudo-random generator at a fixed value\n",
        "    import numpy as np\n",
        "    np.random.seed(seed_value)\n",
        "\n",
        "    # 4. Set `tensorflow` pseudo-random generator at a fixed value\n",
        "    import tensorflow as tf\n",
        "    tf.random.set_seed(seed_value)"
      ]
    },
    {
      "cell_type": "code",
      "execution_count": null,
      "metadata": {
        "id": "IG1aqugvm9FM"
      },
      "outputs": [],
      "source": [
        "def create_lstm_vae(input_dim,\n",
        "    timesteps,\n",
        "    batch_size,\n",
        "    intermediate_dim,\n",
        "    latent_dim,\n",
        "    epsilon_std):\n",
        "\n",
        "    \"\"\"\n",
        "    Creates an LSTM Variational Autoencoder (VAE). Returns VAE, Encoder, Generator.\n",
        "    # Arguments\n",
        "        input_dim: int.\n",
        "        timesteps: int, input timestep dimension.\n",
        "        batch_size: int.\n",
        "        intermediate_dim: int, output shape of LSTM.\n",
        "        latent_dim: int, latent z-layer shape.\n",
        "        epsilon_std: float, z-layer sigma.\n",
        "    # References\n",
        "        - [Building Autoencoders in Keras](https://blog.keras.io/building-autoencoders-in-keras.html)\n",
        "        - [Generating sentences from a continuous space](https://arxiv.org/abs/1511.06349)\n",
        "    \"\"\"\n",
        "    x = Input(shape=(timesteps, input_dim,))\n",
        "\n",
        "    # LSTM encoding\n",
        "    h = LSTM(intermediate_dim)(x)\n",
        "\n",
        "    # VAE Z layer\n",
        "    z_mean = Dense(latent_dim)(h)\n",
        "    z_log_sigma = Dense(latent_dim)(h)\n",
        "\n",
        "    def sampling(args):\n",
        "        z_mean, z_log_sigma = args\n",
        "        epsilon = K.random_normal(shape=(batch_size, latent_dim),\n",
        "                                  mean=0., stddev=epsilon_std)\n",
        "        return z_mean + z_log_sigma * epsilon\n",
        "\n",
        "    # note that \"output_shape\" isn't necessary with the TensorFlow backend\n",
        "    # so you could write `Lambda(sampling)([z_mean, z_log_sigma])`\n",
        "    z = Lambda(sampling, output_shape=(latent_dim,))([z_mean, z_log_sigma])\n",
        "\n",
        "    # decoded LSTM layer\n",
        "    decoder_h = LSTM(intermediate_dim, return_sequences=True)\n",
        "    decoder_mean = LSTM(input_dim, return_sequences=True)\n",
        "\n",
        "    h_decoded = RepeatVector(timesteps)(z)\n",
        "    h_decoded = decoder_h(h_decoded)\n",
        "\n",
        "    # decoded layer\n",
        "    x_decoded_mean = decoder_mean(h_decoded)\n",
        "\n",
        "    # end-to-end autoencoder\n",
        "    vae = Model(x, x_decoded_mean)\n",
        "\n",
        "    # encoder, from inputs to latent space\n",
        "    encoder = Model(x, z_mean)\n",
        "\n",
        "    # generator, from latent space to reconstructed inputs\n",
        "    decoder_input = Input(shape=(latent_dim,))\n",
        "\n",
        "    _h_decoded = RepeatVector(timesteps)(decoder_input)\n",
        "    _h_decoded = decoder_h(_h_decoded)\n",
        "\n",
        "    _x_decoded_mean = decoder_mean(_h_decoded)\n",
        "    generator = Model(decoder_input, _x_decoded_mean)\n",
        "\n",
        "    def vae_loss(x, x_decoded_mean):\n",
        "        mse = losses.MeanSquaredError()\n",
        "        xent_loss = mse(x, x_decoded_mean)\n",
        "        kl_loss = - 0.5 * K.mean(1 + z_log_sigma - K.square(z_mean) - K.exp(z_log_sigma))\n",
        "        loss = xent_loss + kl_loss\n",
        "        return loss\n",
        "\n",
        "    vae.compile(optimizer='rmsprop', loss=vae_loss)\n",
        "\n",
        "    return vae, encoder, generator"
      ]
    },
    {
      "cell_type": "code",
      "execution_count": null,
      "metadata": {
        "scrolled": true,
        "id": "cmU8yifdm9FM"
      },
      "outputs": [],
      "source": [
        "def arch(data):\n",
        "    Random(0)\n",
        "\n",
        "    input_dim = data.shape[-1] # 13\n",
        "    timesteps = data.shape[1] # 3\n",
        "    BATCH_SIZE = 1\n",
        "\n",
        "    model, enc, gen = create_lstm_vae(input_dim,\n",
        "        timesteps=timesteps,\n",
        "        batch_size=BATCH_SIZE,\n",
        "        intermediate_dim=32,\n",
        "        latent_dim=100,\n",
        "        epsilon_std=1.)\n",
        "\n",
        "    history = model.fit(\n",
        "        data,\n",
        "        data,\n",
        "        epochs=20,\n",
        "        batch_size=BATCH_SIZE,\n",
        "        validation_split=0.1,\n",
        "        verbose=0,\n",
        "        callbacks=[\n",
        "            keras.callbacks.EarlyStopping(monitor=\"val_loss\", patience=5, mode=\"min\", verbose=0)\n",
        "        ],\n",
        "    )\n",
        "    return history, model"
      ]
    },
    {
      "cell_type": "markdown",
      "metadata": {
        "id": "oker6-Wxm9FM"
      },
      "source": [
        "### Training in the beginning of each dataset"
      ]
    },
    {
      "cell_type": "code",
      "execution_count": null,
      "metadata": {
        "id": "N5sjYes9m9FN"
      },
      "outputs": [],
      "source": [
        "\n",
        "def create_sequences(values, time_steps):\n",
        "    output = []\n",
        "    for i in range(len(values) - time_steps + 1):\n",
        "        output.append(values[i : (i + time_steps)])\n",
        "    return np.stack(output)"
      ]
    },
    {
      "cell_type": "code",
      "execution_count": null,
      "metadata": {
        "colab": {
          "base_uri": "https://localhost:8080/"
        },
        "id": "ul9EHLpWm9FN",
        "outputId": "b462296d-85a9-4681-f217-825536c5da5c"
      },
      "outputs": [
        {
          "output_type": "stream",
          "name": "stderr",
          "text": [
            "1st loop:   0%|          | 0/5 [00:00<?, ?it/s]WARNING:tensorflow:Layer lstm will not use cuDNN kernels since it doesn't meet the criteria. It will use a generic GPU kernel as fallback when running on GPU.\n",
            "WARNING:tensorflow:Layer lstm_1 will not use cuDNN kernels since it doesn't meet the criteria. It will use a generic GPU kernel as fallback when running on GPU.\n",
            "WARNING:tensorflow:Layer lstm_2 will not use cuDNN kernels since it doesn't meet the criteria. It will use a generic GPU kernel as fallback when running on GPU.\n",
            "1st loop:  20%|██        | 1/5 [01:50<07:23, 110.97s/it]WARNING:tensorflow:Layer lstm_3 will not use cuDNN kernels since it doesn't meet the criteria. It will use a generic GPU kernel as fallback when running on GPU.\n",
            "WARNING:tensorflow:Layer lstm_4 will not use cuDNN kernels since it doesn't meet the criteria. It will use a generic GPU kernel as fallback when running on GPU.\n",
            "WARNING:tensorflow:Layer lstm_5 will not use cuDNN kernels since it doesn't meet the criteria. It will use a generic GPU kernel as fallback when running on GPU.\n",
            "1st loop:  40%|████      | 2/5 [03:26<05:05, 101.77s/it]WARNING:tensorflow:Layer lstm_6 will not use cuDNN kernels since it doesn't meet the criteria. It will use a generic GPU kernel as fallback when running on GPU.\n",
            "WARNING:tensorflow:Layer lstm_7 will not use cuDNN kernels since it doesn't meet the criteria. It will use a generic GPU kernel as fallback when running on GPU.\n",
            "WARNING:tensorflow:Layer lstm_8 will not use cuDNN kernels since it doesn't meet the criteria. It will use a generic GPU kernel as fallback when running on GPU.\n",
            "1st loop:  60%|██████    | 3/5 [05:32<03:45, 112.73s/it]WARNING:tensorflow:Layer lstm_9 will not use cuDNN kernels since it doesn't meet the criteria. It will use a generic GPU kernel as fallback when running on GPU.\n",
            "WARNING:tensorflow:Layer lstm_10 will not use cuDNN kernels since it doesn't meet the criteria. It will use a generic GPU kernel as fallback when running on GPU.\n",
            "WARNING:tensorflow:Layer lstm_11 will not use cuDNN kernels since it doesn't meet the criteria. It will use a generic GPU kernel as fallback when running on GPU.\n",
            "1st loop:  80%|████████  | 4/5 [07:12<01:47, 107.68s/it]WARNING:tensorflow:Layer lstm_12 will not use cuDNN kernels since it doesn't meet the criteria. It will use a generic GPU kernel as fallback when running on GPU.\n",
            "WARNING:tensorflow:Layer lstm_13 will not use cuDNN kernels since it doesn't meet the criteria. It will use a generic GPU kernel as fallback when running on GPU.\n",
            "WARNING:tensorflow:Layer lstm_14 will not use cuDNN kernels since it doesn't meet the criteria. It will use a generic GPU kernel as fallback when running on GPU.\n",
            "1st loop: 100%|██████████| 5/5 [08:46<00:00, 105.31s/it]\n"
          ]
        }
      ],
      "source": [
        "\n",
        "N_STEPS = 5\n",
        "Q = 0.999 # quantile for upper control limit (UCL) selection\n",
        "\n",
        "\n",
        "predicted_outlier, predicted_cp = [], []\n",
        "for df in tqdm(list_of_df, desc='1st loop'):\n",
        "    X_train = df[:400]\n",
        "\n",
        "    StSc = StandardScaler()\n",
        "    StSc.fit(X_train)\n",
        "    X = create_sequences(StSc.transform(X_train), N_STEPS)\n",
        "\n",
        "    history, model = arch(X)\n",
        "\n",
        "    residuals = pd.Series(np.sum(np.mean(np.abs(X - model.predict(X)), axis=1), axis=1))\n",
        "    UCL = residuals.quantile(Q)\n",
        "\n",
        "    X = create_sequences(StSc.transform(df), N_STEPS)\n",
        "    cnn_residuals = pd.Series(np.sum(np.mean(np.abs(X - model.predict(X)), axis=1), axis=1))\n",
        "\n",
        "    anomalous_data = cnn_residuals > (3/2 * UCL)\n",
        "    anomalous_data_indices = []\n",
        "    for data_idx in range(N_STEPS - 1, len(X) - N_STEPS + 1):\n",
        "        if np.all(anomalous_data[data_idx - N_STEPS + 1 : data_idx]):\n",
        "            anomalous_data_indices.append(data_idx)\n",
        "\n",
        "    prediction = pd.Series(data=0, index=df.index)\n",
        "    prediction.iloc[anomalous_data_indices] = 1\n",
        "\n",
        "    predicted_outlier.append(prediction)\n",
        "\n",
        "    prediction_cp = abs(prediction.diff())\n",
        "    prediction_cp[0] = prediction[0]\n",
        "    predicted_cp.append(prediction_cp)"
      ]
    }
  ],
  "metadata": {
    "kernelspec": {
      "display_name": "Python 3",
      "name": "python3"
    },
    "language_info": {
      "codemirror_mode": {
        "name": "ipython",
        "version": 3
      },
      "file_extension": ".py",
      "mimetype": "text/x-python",
      "name": "python",
      "nbconvert_exporter": "python",
      "pygments_lexer": "ipython3",
      "version": "3.8.2"
    },
    "colab": {
      "provenance": [],
      "gpuType": "T4"
    },
    "accelerator": "GPU"
  },
  "nbformat": 4,
  "nbformat_minor": 0
}