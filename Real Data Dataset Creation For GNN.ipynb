{
 "cells": [
  {
   "cell_type": "code",
   "execution_count": 2,
   "id": "1ccd0f0a",
   "metadata": {},
   "outputs": [
    {
     "name": "stdout",
     "output_type": "stream",
     "text": [
      "Results saved to /Users/svirinstepan/Desktop/LAMBDA/Testing on Real Data/Final Anomalous\n"
     ]
    }
   ],
   "source": [
    "import pandas as pd\n",
    "import numpy as np\n",
    "import os\n",
    "\n",
    "\n",
    "def time_to_freq_transform(df, f_sampling, db=True):\n",
    "    y = df['Data']\n",
    "    n = len(y)\n",
    "    yf = np.fft.rfft(y)\n",
    "    fstep = f_sampling / n\n",
    "    freqs = np.arange(len(yf)) * fstep\n",
    "    if db:\n",
    "        yf = 20 * np.log10(np.abs(yf))\n",
    "    return yf, freqs\n",
    "\n",
    "def process_time_series(file_path, output_dir, window_length=20000, shift=20, f_sampling=1.0, db=True):\n",
    "    df = pd.read_csv(file_path)\n",
    "    os.makedirs(output_dir, exist_ok=True)\n",
    "    \n",
    "    file_counter = 1\n",
    "\n",
    "    for start in range(0, len(df) - window_length + 1, shift):\n",
    "        window_df = df.iloc[start:start + window_length]\n",
    "        yf, freqs = time_to_freq_transform(window_df, f_sampling, db=db)\n",
    "        mask = freqs < 250\n",
    "        freqs, yf = [x[mask] for x in [freqs, yf]]\n",
    "        transformed_window = yf\n",
    "        transformed_freqs = freqs\n",
    "        \n",
    "        transformed_df = pd.DataFrame({\n",
    "            'transformed_value': transformed_window\n",
    "        })\n",
    "        output_file_path = os.path.join(output_dir, f'Anomalous_{file_counter}.csv')\n",
    "        transformed_df.to_csv(output_file_path, index=False)\n",
    "        file_counter += 1\n",
    "    \n",
    "    print(f'Results saved to {output_dir}')\n",
    "\n",
    "file_path = '/Users/svirinstepan/Desktop/LAMBDA/Testing on Real Data/Anomalous.csv'\n",
    "output_dir = '/Users/svirinstepan/Desktop/LAMBDA/Testing on Real Data/Final Anomalous'\n",
    "\n",
    "process_time_series(file_path, output_dir, f_sampling=10000, db=True)  # Adjust db parameter as needed\n"
   ]
  },
  {
   "cell_type": "code",
   "execution_count": 3,
   "id": "59ac7e23",
   "metadata": {},
   "outputs": [
    {
     "name": "stdout",
     "output_type": "stream",
     "text": [
      "Collecting bottleneck==1.3.6\n",
      "  Downloading Bottleneck-1.3.6-cp39-cp39-macosx_10_9_x86_64.whl (114 kB)\n",
      "\u001b[2K     \u001b[90m━━━━━━━━━━━━━━━━━━━━━━━━━━━━━━━━━━━━━━━\u001b[0m \u001b[32m114.9/114.9 kB\u001b[0m \u001b[31m2.0 MB/s\u001b[0m eta \u001b[36m0:00:00\u001b[0m00:01\u001b[0m\n",
      "\u001b[?25hRequirement already satisfied: numpy in ./opt/anaconda3/lib/python3.9/site-packages (from bottleneck==1.3.6) (1.23.0)\n",
      "Installing collected packages: bottleneck\n",
      "  Attempting uninstall: bottleneck\n",
      "    Found existing installation: Bottleneck 1.3.4\n",
      "    Uninstalling Bottleneck-1.3.4:\n",
      "      Successfully uninstalled Bottleneck-1.3.4\n",
      "Successfully installed bottleneck-1.3.6\n",
      "\n",
      "\u001b[1m[\u001b[0m\u001b[34;49mnotice\u001b[0m\u001b[1;39;49m]\u001b[0m\u001b[39;49m A new release of pip is available: \u001b[0m\u001b[31;49m22.0.4\u001b[0m\u001b[39;49m -> \u001b[0m\u001b[32;49m24.0\u001b[0m\n",
      "\u001b[1m[\u001b[0m\u001b[34;49mnotice\u001b[0m\u001b[1;39;49m]\u001b[0m\u001b[39;49m To update, run: \u001b[0m\u001b[32;49mpip install --upgrade pip\u001b[0m\n",
      "Note: you may need to restart the kernel to use updated packages.\n"
     ]
    }
   ],
   "source": [
    "pip install bottleneck==1.3.6"
   ]
  },
  {
   "cell_type": "code",
   "execution_count": null,
   "id": "3e15b120",
   "metadata": {},
   "outputs": [],
   "source": []
  }
 ],
 "metadata": {
  "kernelspec": {
   "display_name": "Python 3 (ipykernel)",
   "language": "python",
   "name": "python3"
  },
  "language_info": {
   "codemirror_mode": {
    "name": "ipython",
    "version": 3
   },
   "file_extension": ".py",
   "mimetype": "text/x-python",
   "name": "python",
   "nbconvert_exporter": "python",
   "pygments_lexer": "ipython3",
   "version": "3.9.12"
  }
 },
 "nbformat": 4,
 "nbformat_minor": 5
}
