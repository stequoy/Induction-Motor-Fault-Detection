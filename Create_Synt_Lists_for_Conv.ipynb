{
 "cells": [
  {
   "cell_type": "code",
   "execution_count": 51,
   "id": "87aedb0f",
   "metadata": {},
   "outputs": [
    {
     "data": {
      "text/plain": [
       "[<matplotlib.lines.Line2D at 0x7fe97b621730>]"
      ]
     },
     "execution_count": 51,
     "metadata": {},
     "output_type": "execute_result"
    },
    {
     "data": {
      "image/png": "[encoded data removed]",
      "text/plain": [
       "<Figure size 1008x504 with 1 Axes>"
      ]
     },
     "metadata": {
      "needs_background": "light"
     },
     "output_type": "display_data"
    }
   ],
   "source": [
    "import json\n",
    "\n",
    "def extract_amplitude_values(file_path):\n",
    "    with open(file_path, 'r') as file:\n",
    "        data = json.load(file)\n",
    "        spectrum_chart = data.get('spectrum_chart', [])[1:]  # Start slicing from the second element\n",
    "        amplitude_values = [amplitude for _, amplitude in spectrum_chart]\n",
    "        return amplitude_values\n",
    "\n",
    "file_path = '/Users/svirinstepan/Documents/spectra_json/2023_06_15T15:04:37_2_B.json'\n",
    "amplitude_values = extract_amplitude_values(file_path)\n",
    "plt.figure(figsize=(14, 7))\n",
    "plt.plot(amplitude_values, label='Original Data', linestyle='-', color='blue')\n"
   ]
  },
  {
   "cell_type": "markdown",
   "id": "24192847",
   "metadata": {},
   "source": [
    "# Extract Data from Spectra_Json"
   ]
  },
  {
   "cell_type": "code",
   "execution_count": 61,
   "id": "796faa47",
   "metadata": {},
   "outputs": [
    {
     "name": "stdout",
     "output_type": "stream",
     "text": [
      "Number of files with mean amplitude below 0.001: 1793\n"
     ]
    }
   ],
   "source": [
    "import json\n",
    "import pandas as pd\n",
    "import numpy as np\n",
    "import glob\n",
    "\n",
    "def extract_and_save_amplitude_values(directory_path, output_directory):\n",
    "    json_files = glob.glob(directory_path + '/*.json')\n",
    "    count_below_threshold = 0\n",
    "\n",
    "    for file_path in json_files:\n",
    "        with open(file_path, 'r') as file:\n",
    "            data = json.load(file)\n",
    "            spectrum_chart = data.get('spectrum_chart', [])[1:251]  # Skip the first element and take the first 250 elements\n",
    "            amplitude_values = [amplitude for _, amplitude in spectrum_chart]\n",
    "\n",
    "            if np.mean(amplitude_values) > 0.001:\n",
    "                \n",
    "                df = pd.DataFrame({'Amplitude': amplitude_values})\n",
    "                output_file_name = file_path.split('/')[-1].replace('.json', '.csv')\n",
    "                output_file_path = output_directory + '/' + output_file_name\n",
    "                df.to_csv(output_file_path, index=False)\n",
    "            else:\n",
    "                count_below_threshold += 1 \n",
    "\n",
    "    print(f'Number of files with mean amplitude below 0.001: {count_below_threshold}')\n",
    "\n",
    "# Usage\n",
    "directory_path = '/Users/svirinstepan/Documents/spectra_json'\n",
    "output_directory = '/Users/svirinstepan/Desktop/LAMBDA/good_data_for_conv'\n",
    "extract_and_save_amplitude_values(directory_path, output_directory)\n"
   ]
  },
  {
   "cell_type": "code",
   "execution_count": null,
   "id": "e18fc35b",
   "metadata": {},
   "outputs": [],
   "source": [
    "import pandas as pd\n",
    "import matplotlib.pyplot as plt\n",
    "\n",
    "\n",
    "csv_file_path = '/Users/svirinstepan/Desktop/LAMBDA/good_data_for_conv/2023_06_15T17:50:53_2_B.csv'\n",
    "df = pd.read_csv(csv_file_path)\n",
    "\n",
    "plt.plot(df['Amplitude'])\n",
    "plt.xlabel('Index')\n",
    "plt.ylabel('Amplitude')\n",
    "plt.title('Amplitude Values')\n",
    "plt.show()\n"
   ]
  },
  {
   "cell_type": "markdown",
   "id": "520e7bc3",
   "metadata": {},
   "source": [
    "# Generate Bad Data by Inserting Peak"
   ]
  },
  {
   "cell_type": "code",
   "execution_count": null,
   "id": "a009edd3",
   "metadata": {},
   "outputs": [],
   "source": [
    "import numpy as np\n",
    "import pandas as pd\n",
    "import matplotlib.pyplot as plt\n",
    "from scipy.signal import convolve\n",
    "\n",
    "def add_and_plot_smoothed_peak(csv_file_path, peak_height_hybrid, peak_center_hybrid, peak_base_width, kernel_size):\n",
    "    data = pd.read_csv(csv_file_path)\n",
    "    indices = np.arange(len(data))\n",
    "\n",
    "    triangle_peak = np.zeros(len(data))\n",
    "    half_base_width = peak_base_width // 2\n",
    "    start_index = peak_center_hybrid - half_base_width\n",
    "    triangle_peak[start_index:start_index + half_base_width] = np.linspace(0, peak_height_hybrid, half_base_width)\n",
    "    end_index = start_index + peak_base_width\n",
    "    triangle_peak[start_index + half_base_width:end_index] = np.linspace(peak_height_hybrid, 0, peak_base_width - half_base_width)\n",
    "\n",
    "    gaussian_kernel = np.exp(-np.linspace(-2, 2, kernel_size)**2)\n",
    "    gaussian_kernel /= gaussian_kernel.sum()  # Normalize the kernel\n",
    "\n",
    "    smoothed_peak = convolve(triangle_peak, gaussian_kernel, mode='same')\n",
    "    \n",
    "    data_with_smoothed_peak = data.iloc[:, 0] + smoothed_peak\n",
    "\n",
    "    plt.figure(figsize=(14, 7))\n",
    "    plt.plot(data, label='Original Data', linestyle='-', color='blue')\n",
    "    plt.plot(data_with_smoothed_peak, label='Data with Smoothed Peak', linestyle='-', color='green')\n",
    "    plt.title('Original Data vs. Data with Smoothed Peak')\n",
    "    plt.xlabel('Frequency Unit')\n",
    "    plt.ylabel('Amplitude')\n",
    "    plt.legend()\n",
    "    plt.grid(True)\n",
    "    plt.show()\n",
    "\n",
    "csv_file_path = '/Users/svirinstepan/Desktop/LAMBDA/good_data_for_conv/2023_06_05T06:34:37_2_A.csv'\n",
    "add_and_plot_smoothed_peak(csv_file_path, 1.9, 150, 8, 10)\n"
   ]
  },
  {
   "cell_type": "code",
   "execution_count": 48,
   "id": "08e3275c",
   "metadata": {},
   "outputs": [],
   "source": [
    "import os\n",
    "import numpy as np\n",
    "import pandas as pd\n",
    "from scipy.signal import convolve\n",
    "import glob\n",
    "\n",
    "def add_smoothed_peak_to_files(input_directory, output_directory, peak_height_hybrid, peak_center_hybrid, peak_base_width, kernel_size):\n",
    "    if not os.path.exists(output_directory):\n",
    "        os.makedirs(output_directory)\n",
    "        \n",
    "    for csv_file in glob.glob(input_directory + '/*.csv'):\n",
    "        data = pd.read_csv(csv_file)\n",
    "\n",
    "        indices = np.arange(len(data))\n",
    "        triangle_peak = np.zeros(len(data))\n",
    "        half_base_width = peak_base_width // 2\n",
    "        start_index = peak_center_hybrid - half_base_width\n",
    "        end_index = start_index + peak_base_width\n",
    "        triangle_peak[start_index:start_index + half_base_width] = np.linspace(0, peak_height_hybrid, half_base_width)\n",
    "        triangle_peak[start_index + half_base_width:end_index] = np.linspace(peak_height_hybrid, 0, peak_base_width - half_base_width)\n",
    "\n",
    "        gaussian_kernel = np.exp(-np.linspace(-2, 2, kernel_size)**2)\n",
    "        gaussian_kernel /= gaussian_kernel.sum() \n",
    "\n",
    "        smoothed_peak = convolve(triangle_peak, gaussian_kernel, mode='same')\n",
    "\n",
    "        data_with_smoothed_peak = data.iloc[:, 0] + smoothed_peak\n",
    "\n",
    "        filename, file_extension = os.path.splitext(os.path.basename(csv_file))\n",
    "        output_file_name = filename + '_bad_150' + file_extension\n",
    "        output_file_path = os.path.join(output_directory, output_file_name)\n",
    "        data_with_smoothed_peak.to_csv(output_file_path, index=False)\n",
    "\n",
    "\n",
    "input_directory = '/Users/svirinstepan/Desktop/LAMBDA/good_data_for_conv'\n",
    "output_directory = '/Users/svirinstepan/Desktop/LAMBDA/bad_data_for_conv_150_1.9_8_10'\n",
    "add_smoothed_peak_to_files(input_directory, output_directory, 1.9, 150, 8, 10)\n"
   ]
  },
  {
   "cell_type": "code",
   "execution_count": null,
   "id": "a77ce3a2",
   "metadata": {},
   "outputs": [],
   "source": [
    "data = pd.read_csv('/Users/svirinstepan/Desktop/LAMBDA/bad_data_for_conv/2023_06_05T06:34:37_2_A_bad.csv')\n",
    "print(np.mean(data))\n",
    "\n",
    "plt.figure(figsize=(14, 7))\n",
    "plt.plot(data, label='Data with Smoothed Peak', linestyle='-', color='green')\n",
    "plt.title(f'Data from ')\n",
    "plt.xlabel('Frequency Unit')\n",
    "plt.ylabel('Amplitude')\n",
    "plt.legend()\n",
    "plt.grid(True)\n",
    "plt.show()"
   ]
  },
  {
   "cell_type": "code",
   "execution_count": 1,
   "id": "46b6ffb0",
   "metadata": {},
   "outputs": [
    {
     "ename": "NameError",
     "evalue": "name 'pd' is not defined",
     "output_type": "error",
     "traceback": [
      "\u001b[0;31m---------------------------------------------------------------------------\u001b[0m",
      "\u001b[0;31mNameError\u001b[0m                                 Traceback (most recent call last)",
      "Input \u001b[0;32mIn [1]\u001b[0m, in \u001b[0;36m<cell line: 1>\u001b[0;34m()\u001b[0m\n\u001b[0;32m----> 1\u001b[0m data \u001b[38;5;241m=\u001b[39m \u001b[43mpd\u001b[49m\u001b[38;5;241m.\u001b[39mread_csv(\u001b[38;5;124m'\u001b[39m\u001b[38;5;124m/Users/svirinstepan/Desktop/LAMBDA/Testing on Real Data/Anomalous-intercell.csv\u001b[39m\u001b[38;5;124m'\u001b[39m)\n\u001b[1;32m      2\u001b[0m \u001b[38;5;66;03m# Plot the data\u001b[39;00m\n\u001b[1;32m      3\u001b[0m \u001b[38;5;28mprint\u001b[39m(np\u001b[38;5;241m.\u001b[39mmean(data))\n",
      "\u001b[0;31mNameError\u001b[0m: name 'pd' is not defined"
     ]
    }
   ],
   "source": [
    "data = pd.read_csv('/Users/svirinstepan/Desktop/LAMBDA/good_data_for_conv/2023_06_05T06:34:37_2_A.csv')\n",
    "# Plot the data\n",
    "print(np.mean(data))\n",
    "plt.figure(figsize=(14, 7))\n",
    "plt.plot(data, label='Data with Smoothed Peak', linestyle='-', color='green')\n",
    "plt.title(f'Data from ')\n",
    "plt.xlabel('Frequency Unit')\n",
    "plt.ylabel('Amplitude')\n",
    "plt.legend()\n",
    "plt.grid(True)\n",
    "plt.show()"
   ]
  },
  {
   "cell_type": "code",
   "execution_count": null,
   "id": "3bcdc2a2",
   "metadata": {},
   "outputs": [],
   "source": []
  }
 ],
 "metadata": {
  "kernelspec": {
   "display_name": "Python 3 (ipykernel)",
   "language": "python",
   "name": "python3"
  },
  "language_info": {
   "codemirror_mode": {
    "name": "ipython",
    "version": 3
   },
   "file_extension": ".py",
   "mimetype": "text/x-python",
   "name": "python",
   "nbconvert_exporter": "python",
   "pygments_lexer": "ipython3",
   "version": "3.9.12"
  }
 },
 "nbformat": 4,
 "nbformat_minor": 5
}
